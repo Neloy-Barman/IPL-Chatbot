{
  "nbformat": 4,
  "nbformat_minor": 0,
  "metadata": {
    "colab": {
      "provenance": []
    },
    "kernelspec": {
      "name": "python3",
      "display_name": "Python 3"
    },
    "language_info": {
      "name": "python"
    }
  },
  "cells": [
    {
      "cell_type": "markdown",
      "source": [
        "## **Necessary imports**"
      ],
      "metadata": {
        "id": "mfGX9H7lC5x5"
      }
    },
    {
      "cell_type": "code",
      "execution_count": 59,
      "metadata": {
        "id": "gqGPWCSjY1lS"
      },
      "outputs": [],
      "source": [
        "import re\n",
        "import numpy as np\n",
        "import pandas as pd\n",
        "from datetime import datetime\n",
        "import matplotlib.pyplot as plt\n",
        "%matplotlib inline"
      ]
    },
    {
      "cell_type": "markdown",
      "source": [
        "## **Mounting Drive**"
      ],
      "metadata": {
        "id": "FF_x-BNDC9wx"
      }
    },
    {
      "cell_type": "code",
      "source": [
        "from google.colab import drive\n",
        "drive.mount('/content/drive')"
      ],
      "metadata": {
        "colab": {
          "base_uri": "https://localhost:8080/"
        },
        "id": "2v4_uwrSZSFI",
        "outputId": "7c41ae1a-ccf2-435b-f025-972480310d4e"
      },
      "execution_count": 60,
      "outputs": [
        {
          "output_type": "stream",
          "name": "stdout",
          "text": [
            "Drive already mounted at /content/drive; to attempt to forcibly remount, call drive.mount(\"/content/drive\", force_remount=True).\n"
          ]
        }
      ]
    },
    {
      "cell_type": "markdown",
      "source": [
        "## **Initializing parent folder**"
      ],
      "metadata": {
        "id": "6YZahjZ1DAGx"
      }
    },
    {
      "cell_type": "code",
      "source": [
        "%cd /content/drive/MyDrive/IPL_ChatBot"
      ],
      "metadata": {
        "colab": {
          "base_uri": "https://localhost:8080/"
        },
        "id": "mainaFzhZPvn",
        "outputId": "767e7d93-4cf5-4c50-9649-e4fa4f18f9db"
      },
      "execution_count": 61,
      "outputs": [
        {
          "output_type": "stream",
          "name": "stdout",
          "text": [
            "/content/drive/MyDrive/IPL_ChatBot\n"
          ]
        }
      ]
    },
    {
      "cell_type": "markdown",
      "source": [
        "## **CSV file path**"
      ],
      "metadata": {
        "id": "1ww9vEmCDD7Z"
      }
    },
    {
      "cell_type": "code",
      "source": [
        "df_path = \"/content/drive/MyDrive/IPL_ChatBot/IPL_Matches_Gravitas_AI_Problem_Statement_Data.csv\""
      ],
      "metadata": {
        "id": "PGbUsO6PZPzG"
      },
      "execution_count": 62,
      "outputs": []
    },
    {
      "cell_type": "markdown",
      "source": [
        "## **Reading & Viewing csv file**"
      ],
      "metadata": {
        "id": "70U6aJ9aDIA5"
      }
    },
    {
      "cell_type": "code",
      "source": [
        "df = pd.read_csv(df_path)\n",
        "df.head()"
      ],
      "metadata": {
        "colab": {
          "base_uri": "https://localhost:8080/",
          "height": 328
        },
        "id": "GG7easnxZP2m",
        "outputId": "9fd5ee65-a9e2-4fcf-9ade-a6735986c2ee"
      },
      "execution_count": 63,
      "outputs": [
        {
          "output_type": "execute_result",
          "data": {
            "text/plain": [
              "   id  season       city        date                        team1  \\\n",
              "0   1    2017  Hyderabad  2017-04-05          Sunrisers Hyderabad   \n",
              "1   2    2017       Pune  2017-04-06               Mumbai Indians   \n",
              "2   3    2017     Rajkot  2017-04-07                Gujarat Lions   \n",
              "3   4    2017     Indore  2017-04-08       Rising Pune Supergiant   \n",
              "4   5    2017  Bangalore  2017-04-08  Royal Challengers Bangalore   \n",
              "\n",
              "                         team2                  toss_winner toss_decision  \\\n",
              "0  Royal Challengers Bangalore  Royal Challengers Bangalore         field   \n",
              "1       Rising Pune Supergiant       Rising Pune Supergiant         field   \n",
              "2        Kolkata Knight Riders        Kolkata Knight Riders         field   \n",
              "3              Kings XI Punjab              Kings XI Punjab         field   \n",
              "4             Delhi Daredevils  Royal Challengers Bangalore           bat   \n",
              "\n",
              "   result  dl_applied                       winner  win_by_runs  \\\n",
              "0  normal           0          Sunrisers Hyderabad           35   \n",
              "1  normal           0       Rising Pune Supergiant            0   \n",
              "2  normal           0        Kolkata Knight Riders            0   \n",
              "3  normal           0              Kings XI Punjab            0   \n",
              "4  normal           0  Royal Challengers Bangalore           15   \n",
              "\n",
              "   win_by_wickets player_of_match                                      venue  \\\n",
              "0               0    Yuvraj Singh  Rajiv Gandhi International Stadium, Uppal   \n",
              "1               7       SPD Smith    Maharashtra Cricket Association Stadium   \n",
              "2              10         CA Lynn     Saurashtra Cricket Association Stadium   \n",
              "3               6      GJ Maxwell                     Holkar Cricket Stadium   \n",
              "4               0       KM Jadhav                      M Chinnaswamy Stadium   \n",
              "\n",
              "          umpire1        umpire2 umpire3  \n",
              "0     AY Dandekar       NJ Llong     NaN  \n",
              "1  A Nand Kishore         S Ravi     NaN  \n",
              "2     Nitin Menon      CK Nandan     NaN  \n",
              "3    AK Chaudhary  C Shamshuddin     NaN  \n",
              "4             NaN            NaN     NaN  "
            ],
            "text/html": [
              "\n",
              "  <div id=\"df-4a09a120-8cab-4e9c-b6b4-0d7de03dc3e4\" class=\"colab-df-container\">\n",
              "    <div>\n",
              "<style scoped>\n",
              "    .dataframe tbody tr th:only-of-type {\n",
              "        vertical-align: middle;\n",
              "    }\n",
              "\n",
              "    .dataframe tbody tr th {\n",
              "        vertical-align: top;\n",
              "    }\n",
              "\n",
              "    .dataframe thead th {\n",
              "        text-align: right;\n",
              "    }\n",
              "</style>\n",
              "<table border=\"1\" class=\"dataframe\">\n",
              "  <thead>\n",
              "    <tr style=\"text-align: right;\">\n",
              "      <th></th>\n",
              "      <th>id</th>\n",
              "      <th>season</th>\n",
              "      <th>city</th>\n",
              "      <th>date</th>\n",
              "      <th>team1</th>\n",
              "      <th>team2</th>\n",
              "      <th>toss_winner</th>\n",
              "      <th>toss_decision</th>\n",
              "      <th>result</th>\n",
              "      <th>dl_applied</th>\n",
              "      <th>winner</th>\n",
              "      <th>win_by_runs</th>\n",
              "      <th>win_by_wickets</th>\n",
              "      <th>player_of_match</th>\n",
              "      <th>venue</th>\n",
              "      <th>umpire1</th>\n",
              "      <th>umpire2</th>\n",
              "      <th>umpire3</th>\n",
              "    </tr>\n",
              "  </thead>\n",
              "  <tbody>\n",
              "    <tr>\n",
              "      <th>0</th>\n",
              "      <td>1</td>\n",
              "      <td>2017</td>\n",
              "      <td>Hyderabad</td>\n",
              "      <td>2017-04-05</td>\n",
              "      <td>Sunrisers Hyderabad</td>\n",
              "      <td>Royal Challengers Bangalore</td>\n",
              "      <td>Royal Challengers Bangalore</td>\n",
              "      <td>field</td>\n",
              "      <td>normal</td>\n",
              "      <td>0</td>\n",
              "      <td>Sunrisers Hyderabad</td>\n",
              "      <td>35</td>\n",
              "      <td>0</td>\n",
              "      <td>Yuvraj Singh</td>\n",
              "      <td>Rajiv Gandhi International Stadium, Uppal</td>\n",
              "      <td>AY Dandekar</td>\n",
              "      <td>NJ Llong</td>\n",
              "      <td>NaN</td>\n",
              "    </tr>\n",
              "    <tr>\n",
              "      <th>1</th>\n",
              "      <td>2</td>\n",
              "      <td>2017</td>\n",
              "      <td>Pune</td>\n",
              "      <td>2017-04-06</td>\n",
              "      <td>Mumbai Indians</td>\n",
              "      <td>Rising Pune Supergiant</td>\n",
              "      <td>Rising Pune Supergiant</td>\n",
              "      <td>field</td>\n",
              "      <td>normal</td>\n",
              "      <td>0</td>\n",
              "      <td>Rising Pune Supergiant</td>\n",
              "      <td>0</td>\n",
              "      <td>7</td>\n",
              "      <td>SPD Smith</td>\n",
              "      <td>Maharashtra Cricket Association Stadium</td>\n",
              "      <td>A Nand Kishore</td>\n",
              "      <td>S Ravi</td>\n",
              "      <td>NaN</td>\n",
              "    </tr>\n",
              "    <tr>\n",
              "      <th>2</th>\n",
              "      <td>3</td>\n",
              "      <td>2017</td>\n",
              "      <td>Rajkot</td>\n",
              "      <td>2017-04-07</td>\n",
              "      <td>Gujarat Lions</td>\n",
              "      <td>Kolkata Knight Riders</td>\n",
              "      <td>Kolkata Knight Riders</td>\n",
              "      <td>field</td>\n",
              "      <td>normal</td>\n",
              "      <td>0</td>\n",
              "      <td>Kolkata Knight Riders</td>\n",
              "      <td>0</td>\n",
              "      <td>10</td>\n",
              "      <td>CA Lynn</td>\n",
              "      <td>Saurashtra Cricket Association Stadium</td>\n",
              "      <td>Nitin Menon</td>\n",
              "      <td>CK Nandan</td>\n",
              "      <td>NaN</td>\n",
              "    </tr>\n",
              "    <tr>\n",
              "      <th>3</th>\n",
              "      <td>4</td>\n",
              "      <td>2017</td>\n",
              "      <td>Indore</td>\n",
              "      <td>2017-04-08</td>\n",
              "      <td>Rising Pune Supergiant</td>\n",
              "      <td>Kings XI Punjab</td>\n",
              "      <td>Kings XI Punjab</td>\n",
              "      <td>field</td>\n",
              "      <td>normal</td>\n",
              "      <td>0</td>\n",
              "      <td>Kings XI Punjab</td>\n",
              "      <td>0</td>\n",
              "      <td>6</td>\n",
              "      <td>GJ Maxwell</td>\n",
              "      <td>Holkar Cricket Stadium</td>\n",
              "      <td>AK Chaudhary</td>\n",
              "      <td>C Shamshuddin</td>\n",
              "      <td>NaN</td>\n",
              "    </tr>\n",
              "    <tr>\n",
              "      <th>4</th>\n",
              "      <td>5</td>\n",
              "      <td>2017</td>\n",
              "      <td>Bangalore</td>\n",
              "      <td>2017-04-08</td>\n",
              "      <td>Royal Challengers Bangalore</td>\n",
              "      <td>Delhi Daredevils</td>\n",
              "      <td>Royal Challengers Bangalore</td>\n",
              "      <td>bat</td>\n",
              "      <td>normal</td>\n",
              "      <td>0</td>\n",
              "      <td>Royal Challengers Bangalore</td>\n",
              "      <td>15</td>\n",
              "      <td>0</td>\n",
              "      <td>KM Jadhav</td>\n",
              "      <td>M Chinnaswamy Stadium</td>\n",
              "      <td>NaN</td>\n",
              "      <td>NaN</td>\n",
              "      <td>NaN</td>\n",
              "    </tr>\n",
              "  </tbody>\n",
              "</table>\n",
              "</div>\n",
              "    <div class=\"colab-df-buttons\">\n",
              "\n",
              "  <div class=\"colab-df-container\">\n",
              "    <button class=\"colab-df-convert\" onclick=\"convertToInteractive('df-4a09a120-8cab-4e9c-b6b4-0d7de03dc3e4')\"\n",
              "            title=\"Convert this dataframe to an interactive table.\"\n",
              "            style=\"display:none;\">\n",
              "\n",
              "  <svg xmlns=\"http://www.w3.org/2000/svg\" height=\"24px\" viewBox=\"0 -960 960 960\">\n",
              "    <path d=\"M120-120v-720h720v720H120Zm60-500h600v-160H180v160Zm220 220h160v-160H400v160Zm0 220h160v-160H400v160ZM180-400h160v-160H180v160Zm440 0h160v-160H620v160ZM180-180h160v-160H180v160Zm440 0h160v-160H620v160Z\"/>\n",
              "  </svg>\n",
              "    </button>\n",
              "\n",
              "  <style>\n",
              "    .colab-df-container {\n",
              "      display:flex;\n",
              "      gap: 12px;\n",
              "    }\n",
              "\n",
              "    .colab-df-convert {\n",
              "      background-color: #E8F0FE;\n",
              "      border: none;\n",
              "      border-radius: 50%;\n",
              "      cursor: pointer;\n",
              "      display: none;\n",
              "      fill: #1967D2;\n",
              "      height: 32px;\n",
              "      padding: 0 0 0 0;\n",
              "      width: 32px;\n",
              "    }\n",
              "\n",
              "    .colab-df-convert:hover {\n",
              "      background-color: #E2EBFA;\n",
              "      box-shadow: 0px 1px 2px rgba(60, 64, 67, 0.3), 0px 1px 3px 1px rgba(60, 64, 67, 0.15);\n",
              "      fill: #174EA6;\n",
              "    }\n",
              "\n",
              "    .colab-df-buttons div {\n",
              "      margin-bottom: 4px;\n",
              "    }\n",
              "\n",
              "    [theme=dark] .colab-df-convert {\n",
              "      background-color: #3B4455;\n",
              "      fill: #D2E3FC;\n",
              "    }\n",
              "\n",
              "    [theme=dark] .colab-df-convert:hover {\n",
              "      background-color: #434B5C;\n",
              "      box-shadow: 0px 1px 3px 1px rgba(0, 0, 0, 0.15);\n",
              "      filter: drop-shadow(0px 1px 2px rgba(0, 0, 0, 0.3));\n",
              "      fill: #FFFFFF;\n",
              "    }\n",
              "  </style>\n",
              "\n",
              "    <script>\n",
              "      const buttonEl =\n",
              "        document.querySelector('#df-4a09a120-8cab-4e9c-b6b4-0d7de03dc3e4 button.colab-df-convert');\n",
              "      buttonEl.style.display =\n",
              "        google.colab.kernel.accessAllowed ? 'block' : 'none';\n",
              "\n",
              "      async function convertToInteractive(key) {\n",
              "        const element = document.querySelector('#df-4a09a120-8cab-4e9c-b6b4-0d7de03dc3e4');\n",
              "        const dataTable =\n",
              "          await google.colab.kernel.invokeFunction('convertToInteractive',\n",
              "                                                    [key], {});\n",
              "        if (!dataTable) return;\n",
              "\n",
              "        const docLinkHtml = 'Like what you see? Visit the ' +\n",
              "          '<a target=\"_blank\" href=https://colab.research.google.com/notebooks/data_table.ipynb>data table notebook</a>'\n",
              "          + ' to learn more about interactive tables.';\n",
              "        element.innerHTML = '';\n",
              "        dataTable['output_type'] = 'display_data';\n",
              "        await google.colab.output.renderOutput(dataTable, element);\n",
              "        const docLink = document.createElement('div');\n",
              "        docLink.innerHTML = docLinkHtml;\n",
              "        element.appendChild(docLink);\n",
              "      }\n",
              "    </script>\n",
              "  </div>\n",
              "\n",
              "\n",
              "<div id=\"df-a90f8dd3-b043-4ff8-b455-281398dec72b\">\n",
              "  <button class=\"colab-df-quickchart\" onclick=\"quickchart('df-a90f8dd3-b043-4ff8-b455-281398dec72b')\"\n",
              "            title=\"Suggest charts\"\n",
              "            style=\"display:none;\">\n",
              "\n",
              "<svg xmlns=\"http://www.w3.org/2000/svg\" height=\"24px\"viewBox=\"0 0 24 24\"\n",
              "     width=\"24px\">\n",
              "    <g>\n",
              "        <path d=\"M19 3H5c-1.1 0-2 .9-2 2v14c0 1.1.9 2 2 2h14c1.1 0 2-.9 2-2V5c0-1.1-.9-2-2-2zM9 17H7v-7h2v7zm4 0h-2V7h2v10zm4 0h-2v-4h2v4z\"/>\n",
              "    </g>\n",
              "</svg>\n",
              "  </button>\n",
              "\n",
              "<style>\n",
              "  .colab-df-quickchart {\n",
              "      --bg-color: #E8F0FE;\n",
              "      --fill-color: #1967D2;\n",
              "      --hover-bg-color: #E2EBFA;\n",
              "      --hover-fill-color: #174EA6;\n",
              "      --disabled-fill-color: #AAA;\n",
              "      --disabled-bg-color: #DDD;\n",
              "  }\n",
              "\n",
              "  [theme=dark] .colab-df-quickchart {\n",
              "      --bg-color: #3B4455;\n",
              "      --fill-color: #D2E3FC;\n",
              "      --hover-bg-color: #434B5C;\n",
              "      --hover-fill-color: #FFFFFF;\n",
              "      --disabled-bg-color: #3B4455;\n",
              "      --disabled-fill-color: #666;\n",
              "  }\n",
              "\n",
              "  .colab-df-quickchart {\n",
              "    background-color: var(--bg-color);\n",
              "    border: none;\n",
              "    border-radius: 50%;\n",
              "    cursor: pointer;\n",
              "    display: none;\n",
              "    fill: var(--fill-color);\n",
              "    height: 32px;\n",
              "    padding: 0;\n",
              "    width: 32px;\n",
              "  }\n",
              "\n",
              "  .colab-df-quickchart:hover {\n",
              "    background-color: var(--hover-bg-color);\n",
              "    box-shadow: 0 1px 2px rgba(60, 64, 67, 0.3), 0 1px 3px 1px rgba(60, 64, 67, 0.15);\n",
              "    fill: var(--button-hover-fill-color);\n",
              "  }\n",
              "\n",
              "  .colab-df-quickchart-complete:disabled,\n",
              "  .colab-df-quickchart-complete:disabled:hover {\n",
              "    background-color: var(--disabled-bg-color);\n",
              "    fill: var(--disabled-fill-color);\n",
              "    box-shadow: none;\n",
              "  }\n",
              "\n",
              "  .colab-df-spinner {\n",
              "    border: 2px solid var(--fill-color);\n",
              "    border-color: transparent;\n",
              "    border-bottom-color: var(--fill-color);\n",
              "    animation:\n",
              "      spin 1s steps(1) infinite;\n",
              "  }\n",
              "\n",
              "  @keyframes spin {\n",
              "    0% {\n",
              "      border-color: transparent;\n",
              "      border-bottom-color: var(--fill-color);\n",
              "      border-left-color: var(--fill-color);\n",
              "    }\n",
              "    20% {\n",
              "      border-color: transparent;\n",
              "      border-left-color: var(--fill-color);\n",
              "      border-top-color: var(--fill-color);\n",
              "    }\n",
              "    30% {\n",
              "      border-color: transparent;\n",
              "      border-left-color: var(--fill-color);\n",
              "      border-top-color: var(--fill-color);\n",
              "      border-right-color: var(--fill-color);\n",
              "    }\n",
              "    40% {\n",
              "      border-color: transparent;\n",
              "      border-right-color: var(--fill-color);\n",
              "      border-top-color: var(--fill-color);\n",
              "    }\n",
              "    60% {\n",
              "      border-color: transparent;\n",
              "      border-right-color: var(--fill-color);\n",
              "    }\n",
              "    80% {\n",
              "      border-color: transparent;\n",
              "      border-right-color: var(--fill-color);\n",
              "      border-bottom-color: var(--fill-color);\n",
              "    }\n",
              "    90% {\n",
              "      border-color: transparent;\n",
              "      border-bottom-color: var(--fill-color);\n",
              "    }\n",
              "  }\n",
              "</style>\n",
              "\n",
              "  <script>\n",
              "    async function quickchart(key) {\n",
              "      const quickchartButtonEl =\n",
              "        document.querySelector('#' + key + ' button');\n",
              "      quickchartButtonEl.disabled = true;  // To prevent multiple clicks.\n",
              "      quickchartButtonEl.classList.add('colab-df-spinner');\n",
              "      try {\n",
              "        const charts = await google.colab.kernel.invokeFunction(\n",
              "            'suggestCharts', [key], {});\n",
              "      } catch (error) {\n",
              "        console.error('Error during call to suggestCharts:', error);\n",
              "      }\n",
              "      quickchartButtonEl.classList.remove('colab-df-spinner');\n",
              "      quickchartButtonEl.classList.add('colab-df-quickchart-complete');\n",
              "    }\n",
              "    (() => {\n",
              "      let quickchartButtonEl =\n",
              "        document.querySelector('#df-a90f8dd3-b043-4ff8-b455-281398dec72b button');\n",
              "      quickchartButtonEl.style.display =\n",
              "        google.colab.kernel.accessAllowed ? 'block' : 'none';\n",
              "    })();\n",
              "  </script>\n",
              "</div>\n",
              "\n",
              "    </div>\n",
              "  </div>\n"
            ],
            "application/vnd.google.colaboratory.intrinsic+json": {
              "type": "dataframe",
              "variable_name": "df",
              "summary": "{\n  \"name\": \"df\",\n  \"rows\": 756,\n  \"fields\": [\n    {\n      \"column\": \"id\",\n      \"properties\": {\n        \"dtype\": \"number\",\n        \"std\": 3464,\n        \"min\": 1,\n        \"max\": 11415,\n        \"num_unique_values\": 756,\n        \"samples\": [\n          409,\n          98,\n          425\n        ],\n        \"semantic_type\": \"\",\n        \"description\": \"\"\n      }\n    },\n    {\n      \"column\": \"season\",\n      \"properties\": {\n        \"dtype\": \"number\",\n        \"std\": 3,\n        \"min\": 2008,\n        \"max\": 2019,\n        \"num_unique_values\": 12,\n        \"samples\": [\n          2018,\n          2016,\n          2017\n        ],\n        \"semantic_type\": \"\",\n        \"description\": \"\"\n      }\n    },\n    {\n      \"column\": \"city\",\n      \"properties\": {\n        \"dtype\": \"category\",\n        \"num_unique_values\": 32,\n        \"samples\": [\n          \"Sharjah\",\n          \"Centurion\",\n          \"Kochi\"\n        ],\n        \"semantic_type\": \"\",\n        \"description\": \"\"\n      }\n    },\n    {\n      \"column\": \"date\",\n      \"properties\": {\n        \"dtype\": \"string\",\n        \"num_unique_values\": 546,\n        \"samples\": [\n          \"2013-05-26\",\n          \"2008-05-20\",\n          \"2015-04-10\"\n        ],\n        \"semantic_type\": \"\",\n        \"description\": \"\"\n      }\n    },\n    {\n      \"column\": \"team1\",\n      \"properties\": {\n        \"dtype\": \"category\",\n        \"num_unique_values\": 15,\n        \"samples\": [\n          \"Rajasthan Royals\",\n          \"Kochi Tuskers Kerala\",\n          \"Sunrisers Hyderabad\"\n        ],\n        \"semantic_type\": \"\",\n        \"description\": \"\"\n      }\n    },\n    {\n      \"column\": \"team2\",\n      \"properties\": {\n        \"dtype\": \"category\",\n        \"num_unique_values\": 15,\n        \"samples\": [\n          \"Chennai Super Kings\",\n          \"Pune Warriors\",\n          \"Royal Challengers Bangalore\"\n        ],\n        \"semantic_type\": \"\",\n        \"description\": \"\"\n      }\n    },\n    {\n      \"column\": \"toss_winner\",\n      \"properties\": {\n        \"dtype\": \"category\",\n        \"num_unique_values\": 15,\n        \"samples\": [\n          \"Rajasthan Royals\",\n          \"Kochi Tuskers Kerala\",\n          \"Royal Challengers Bangalore\"\n        ],\n        \"semantic_type\": \"\",\n        \"description\": \"\"\n      }\n    },\n    {\n      \"column\": \"toss_decision\",\n      \"properties\": {\n        \"dtype\": \"category\",\n        \"num_unique_values\": 2,\n        \"samples\": [\n          \"bat\",\n          \"field\"\n        ],\n        \"semantic_type\": \"\",\n        \"description\": \"\"\n      }\n    },\n    {\n      \"column\": \"result\",\n      \"properties\": {\n        \"dtype\": \"category\",\n        \"num_unique_values\": 3,\n        \"samples\": [\n          \"normal\",\n          \"tie\"\n        ],\n        \"semantic_type\": \"\",\n        \"description\": \"\"\n      }\n    },\n    {\n      \"column\": \"dl_applied\",\n      \"properties\": {\n        \"dtype\": \"number\",\n        \"std\": 0,\n        \"min\": 0,\n        \"max\": 1,\n        \"num_unique_values\": 2,\n        \"samples\": [\n          1,\n          0\n        ],\n        \"semantic_type\": \"\",\n        \"description\": \"\"\n      }\n    },\n    {\n      \"column\": \"winner\",\n      \"properties\": {\n        \"dtype\": \"category\",\n        \"num_unique_values\": 15,\n        \"samples\": [\n          \"Rajasthan Royals\",\n          \"Pune Warriors\"\n        ],\n        \"semantic_type\": \"\",\n        \"description\": \"\"\n      }\n    },\n    {\n      \"column\": \"win_by_runs\",\n      \"properties\": {\n        \"dtype\": \"number\",\n        \"std\": 23,\n        \"min\": 0,\n        \"max\": 146,\n        \"num_unique_values\": 89,\n        \"samples\": [\n          53,\n          40\n        ],\n        \"semantic_type\": \"\",\n        \"description\": \"\"\n      }\n    },\n    {\n      \"column\": \"win_by_wickets\",\n      \"properties\": {\n        \"dtype\": \"number\",\n        \"std\": 3,\n        \"min\": 0,\n        \"max\": 10,\n        \"num_unique_values\": 11,\n        \"samples\": [\n          4,\n          0\n        ],\n        \"semantic_type\": \"\",\n        \"description\": \"\"\n      }\n    },\n    {\n      \"column\": \"player_of_match\",\n      \"properties\": {\n        \"dtype\": \"category\",\n        \"num_unique_values\": 226,\n        \"samples\": [\n          \"JJ Bumrah\",\n          \"MA Agarwal\"\n        ],\n        \"semantic_type\": \"\",\n        \"description\": \"\"\n      }\n    },\n    {\n      \"column\": \"venue\",\n      \"properties\": {\n        \"dtype\": \"category\",\n        \"num_unique_values\": 41,\n        \"samples\": [\n          \"Barabati Stadium\",\n          \"Dr DY Patil Sports Academy\"\n        ],\n        \"semantic_type\": \"\",\n        \"description\": \"\"\n      }\n    },\n    {\n      \"column\": \"umpire1\",\n      \"properties\": {\n        \"dtype\": \"category\",\n        \"num_unique_values\": 61,\n        \"samples\": [\n          \"AY Dandekar\",\n          \"KN Ananthapadmanabhan\"\n        ],\n        \"semantic_type\": \"\",\n        \"description\": \"\"\n      }\n    },\n    {\n      \"column\": \"umpire2\",\n      \"properties\": {\n        \"dtype\": \"category\",\n        \"num_unique_values\": 65,\n        \"samples\": [\n          \"O Nandan\",\n          \"Nanda Kishore\"\n        ],\n        \"semantic_type\": \"\",\n        \"description\": \"\"\n      }\n    },\n    {\n      \"column\": \"umpire3\",\n      \"properties\": {\n        \"dtype\": \"category\",\n        \"num_unique_values\": 25,\n        \"samples\": [\n          \"Chris Gaffaney\",\n          \"Marais Erasmus\"\n        ],\n        \"semantic_type\": \"\",\n        \"description\": \"\"\n      }\n    }\n  ]\n}"
            }
          },
          "metadata": {},
          "execution_count": 63
        }
      ]
    },
    {
      "cell_type": "markdown",
      "source": [
        "## **Shape**"
      ],
      "metadata": {
        "id": "DUqO4n6dDOb6"
      }
    },
    {
      "cell_type": "code",
      "source": [
        "df.shape"
      ],
      "metadata": {
        "colab": {
          "base_uri": "https://localhost:8080/"
        },
        "id": "EWRy-EWiaAz8",
        "outputId": "56617117-e8d1-4897-9ee2-498dad3fa018"
      },
      "execution_count": 64,
      "outputs": [
        {
          "output_type": "execute_result",
          "data": {
            "text/plain": [
              "(756, 18)"
            ]
          },
          "metadata": {},
          "execution_count": 64
        }
      ]
    },
    {
      "cell_type": "markdown",
      "source": [
        "## **Columns**"
      ],
      "metadata": {
        "id": "HXo-4bXhDRj5"
      }
    },
    {
      "cell_type": "code",
      "source": [
        "df.columns"
      ],
      "metadata": {
        "colab": {
          "base_uri": "https://localhost:8080/"
        },
        "id": "ONcZPeyBZP5u",
        "outputId": "f5d222ca-c6d0-4b3e-ea8d-e611b2cfe284"
      },
      "execution_count": 65,
      "outputs": [
        {
          "output_type": "execute_result",
          "data": {
            "text/plain": [
              "Index(['id', 'season', 'city', 'date', 'team1', 'team2', 'toss_winner',\n",
              "       'toss_decision', 'result', 'dl_applied', 'winner', 'win_by_runs',\n",
              "       'win_by_wickets', 'player_of_match', 'venue', 'umpire1', 'umpire2',\n",
              "       'umpire3'],\n",
              "      dtype='object')"
            ]
          },
          "metadata": {},
          "execution_count": 65
        }
      ]
    },
    {
      "cell_type": "markdown",
      "source": [
        "## **Checking if NaN value exists**"
      ],
      "metadata": {
        "id": "9YQjqlKMDTup"
      }
    },
    {
      "cell_type": "code",
      "source": [
        "df.isna().sum()"
      ],
      "metadata": {
        "colab": {
          "base_uri": "https://localhost:8080/"
        },
        "id": "ZUvk15RhaAOu",
        "outputId": "67b61ce3-4c03-4ddd-dedd-7b69fe0c76c1"
      },
      "execution_count": 66,
      "outputs": [
        {
          "output_type": "execute_result",
          "data": {
            "text/plain": [
              "id                   0\n",
              "season               0\n",
              "city                 7\n",
              "date                 0\n",
              "team1                0\n",
              "team2                0\n",
              "toss_winner          0\n",
              "toss_decision        0\n",
              "result               0\n",
              "dl_applied           0\n",
              "winner               4\n",
              "win_by_runs          0\n",
              "win_by_wickets       0\n",
              "player_of_match      4\n",
              "venue                0\n",
              "umpire1              2\n",
              "umpire2              2\n",
              "umpire3            637\n",
              "dtype: int64"
            ]
          },
          "metadata": {},
          "execution_count": 66
        }
      ]
    },
    {
      "cell_type": "markdown",
      "source": [
        "### **We can see that there are 637 None Values in 'umpire3' column. These values can't be filled with other values. So, deleting this column.**"
      ],
      "metadata": {
        "id": "EsRRKTm2-spD"
      }
    },
    {
      "cell_type": "code",
      "source": [
        "del df['umpire3']"
      ],
      "metadata": {
        "id": "sWVsChpq_OPS"
      },
      "execution_count": 67,
      "outputs": []
    },
    {
      "cell_type": "markdown",
      "source": [
        "## **Still NaN value exists in other columns**"
      ],
      "metadata": {
        "id": "p0irhDy5DfCw"
      }
    },
    {
      "cell_type": "code",
      "source": [
        "df.isna().sum()"
      ],
      "metadata": {
        "colab": {
          "base_uri": "https://localhost:8080/"
        },
        "id": "mJ15IEBJCZm8",
        "outputId": "1b55b978-dca4-4280-e06e-7652aed530b0"
      },
      "execution_count": 68,
      "outputs": [
        {
          "output_type": "execute_result",
          "data": {
            "text/plain": [
              "id                 0\n",
              "season             0\n",
              "city               7\n",
              "date               0\n",
              "team1              0\n",
              "team2              0\n",
              "toss_winner        0\n",
              "toss_decision      0\n",
              "result             0\n",
              "dl_applied         0\n",
              "winner             4\n",
              "win_by_runs        0\n",
              "win_by_wickets     0\n",
              "player_of_match    4\n",
              "venue              0\n",
              "umpire1            2\n",
              "umpire2            2\n",
              "dtype: int64"
            ]
          },
          "metadata": {},
          "execution_count": 68
        }
      ]
    },
    {
      "cell_type": "markdown",
      "source": [
        "## **Dropping all the NaN values**"
      ],
      "metadata": {
        "id": "Eyiv1S_FDlWY"
      }
    },
    {
      "cell_type": "code",
      "source": [
        "df = df.dropna()"
      ],
      "metadata": {
        "id": "K6xsAuhTCfW7"
      },
      "execution_count": 69,
      "outputs": []
    },
    {
      "cell_type": "markdown",
      "source": [
        "## **Shape after deleting**"
      ],
      "metadata": {
        "id": "VAEThZrCDsdZ"
      }
    },
    {
      "cell_type": "code",
      "source": [
        "df.shape"
      ],
      "metadata": {
        "colab": {
          "base_uri": "https://localhost:8080/"
        },
        "id": "PCABg02uC0sS",
        "outputId": "89454859-8fbf-44ec-f7c0-a1e9cb8ed273"
      },
      "execution_count": 70,
      "outputs": [
        {
          "output_type": "execute_result",
          "data": {
            "text/plain": [
              "(743, 17)"
            ]
          },
          "metadata": {},
          "execution_count": 70
        }
      ]
    },
    {
      "cell_type": "markdown",
      "source": [
        "## **Season, team1, team2 unique value counts**"
      ],
      "metadata": {
        "id": "kAbrEGCNDytw"
      }
    },
    {
      "cell_type": "code",
      "source": [
        "df['season'].value_counts(), df['team1'].value_counts(), df['team2'].value_counts()"
      ],
      "metadata": {
        "colab": {
          "base_uri": "https://localhost:8080/"
        },
        "id": "EruTxQy_aMP8",
        "outputId": "74d52043-195b-4541-8019-8c057198808e"
      },
      "execution_count": 71,
      "outputs": [
        {
          "output_type": "execute_result",
          "data": {
            "text/plain": [
              "(season\n",
              " 2013    76\n",
              " 2012    74\n",
              " 2011    72\n",
              " 2010    60\n",
              " 2016    60\n",
              " 2018    60\n",
              " 2017    58\n",
              " 2008    58\n",
              " 2019    58\n",
              " 2009    57\n",
              " 2015    57\n",
              " 2014    53\n",
              " Name: count, dtype: int64,\n",
              " team1\n",
              " Mumbai Indians                 99\n",
              " Kings XI Punjab                91\n",
              " Chennai Super Kings            88\n",
              " Kolkata Knight Riders          82\n",
              " Royal Challengers Bangalore    81\n",
              " Delhi Daredevils               70\n",
              " Rajasthan Royals               67\n",
              " Sunrisers Hyderabad            60\n",
              " Deccan Chargers                43\n",
              " Pune Warriors                  20\n",
              " Gujarat Lions                  14\n",
              " Rising Pune Supergiant          8\n",
              " Kochi Tuskers Kerala            7\n",
              " Rising Pune Supergiants         7\n",
              " Delhi Capitals                  6\n",
              " Name: count, dtype: int64,\n",
              " team2\n",
              " Kolkata Knight Riders          95\n",
              " Royal Challengers Bangalore    93\n",
              " Delhi Daredevils               86\n",
              " Mumbai Indians                 85\n",
              " Kings XI Punjab                84\n",
              " Rajasthan Royals               77\n",
              " Chennai Super Kings            74\n",
              " Sunrisers Hyderabad            45\n",
              " Deccan Chargers                32\n",
              " Pune Warriors                  25\n",
              " Gujarat Lions                  16\n",
              " Delhi Capitals                  9\n",
              " Rising Pune Supergiant          8\n",
              " Kochi Tuskers Kerala            7\n",
              " Rising Pune Supergiants         7\n",
              " Name: count, dtype: int64)"
            ]
          },
          "metadata": {},
          "execution_count": 71
        }
      ]
    },
    {
      "cell_type": "markdown",
      "source": [
        "## **City value counts**"
      ],
      "metadata": {
        "id": "hiLnLzzlD8Cv"
      }
    },
    {
      "cell_type": "code",
      "source": [
        "df['city'].value_counts()"
      ],
      "metadata": {
        "colab": {
          "base_uri": "https://localhost:8080/"
        },
        "id": "AWqUWl4SaSKM",
        "outputId": "b526efdf-1835-4093-9bfb-11752546ce86"
      },
      "execution_count": 72,
      "outputs": [
        {
          "output_type": "execute_result",
          "data": {
            "text/plain": [
              "city\n",
              "Mumbai            101\n",
              "Kolkata            77\n",
              "Delhi              73\n",
              "Hyderabad          64\n",
              "Bangalore          63\n",
              "Chennai            57\n",
              "Jaipur             47\n",
              "Chandigarh         46\n",
              "Pune               38\n",
              "Durban             15\n",
              "Bengaluru          13\n",
              "Centurion          12\n",
              "Ahmedabad          12\n",
              "Visakhapatnam      12\n",
              "Rajkot             10\n",
              "Mohali             10\n",
              "Indore              9\n",
              "Dharamsala          9\n",
              "Johannesburg        8\n",
              "Cuttack             7\n",
              "Ranchi              7\n",
              "Port Elizabeth      7\n",
              "Cape Town           7\n",
              "Abu Dhabi           7\n",
              "Sharjah             6\n",
              "Raipur              6\n",
              "Kochi               5\n",
              "Kanpur              4\n",
              "Nagpur              3\n",
              "Kimberley           3\n",
              "East London         3\n",
              "Bloemfontein        2\n",
              "Name: count, dtype: int64"
            ]
          },
          "metadata": {},
          "execution_count": 72
        }
      ]
    },
    {
      "cell_type": "markdown",
      "source": [
        "## **Venue Counts**"
      ],
      "metadata": {
        "id": "ijAFkaMoWV8F"
      }
    },
    {
      "cell_type": "code",
      "source": [
        "df['venue'].value_counts()"
      ],
      "metadata": {
        "colab": {
          "base_uri": "https://localhost:8080/"
        },
        "id": "eX4X5mZzCdD6",
        "outputId": "2b6f68cf-5b7b-44ed-952c-65bcc2268a3f"
      },
      "execution_count": 73,
      "outputs": [
        {
          "output_type": "execute_result",
          "data": {
            "text/plain": [
              "venue\n",
              "Eden Gardens                                            77\n",
              "Wankhede Stadium                                        73\n",
              "M Chinnaswamy Stadium                                   70\n",
              "Feroz Shah Kotla                                        66\n",
              "Rajiv Gandhi International Stadium, Uppal               56\n",
              "MA Chidambaram Stadium, Chepauk                         49\n",
              "Sawai Mansingh Stadium                                  47\n",
              "Punjab Cricket Association Stadium, Mohali              35\n",
              "Maharashtra Cricket Association Stadium                 21\n",
              "Subrata Roy Sahara Stadium                              17\n",
              "Dr DY Patil Sports Academy                              17\n",
              "Kingsmead                                               15\n",
              "Punjab Cricket Association IS Bindra Stadium, Mohali    14\n",
              "Sardar Patel Stadium, Motera                            12\n",
              "SuperSport Park                                         12\n",
              "Brabourne Stadium                                       11\n",
              "Dr. Y.S. Rajasekhara Reddy ACA-VDCA Cricket Stadium     11\n",
              "Saurashtra Cricket Association Stadium                  10\n",
              "Himachal Pradesh Cricket Association Stadium             9\n",
              "Holkar Cricket Stadium                                   9\n",
              "M. A. Chidambaram Stadium                                8\n",
              "New Wanderers Stadium                                    8\n",
              "Rajiv Gandhi Intl. Cricket Stadium                       8\n",
              "Sheikh Zayed Stadium                                     7\n",
              "JSCA International Stadium Complex                       7\n",
              "St George's Park                                         7\n",
              "Newlands                                                 7\n",
              "Barabati Stadium                                         7\n",
              "IS Bindra Stadium                                        7\n",
              "Feroz Shah Kotla Ground                                  7\n",
              "Shaheed Veer Narayan Singh International Stadium         6\n",
              "Sharjah Cricket Stadium                                  6\n",
              "M. Chinnaswamy Stadium                                   6\n",
              "Nehru Stadium                                            5\n",
              "Green Park                                               4\n",
              "De Beers Diamond Oval                                    3\n",
              "Vidarbha Cricket Association Stadium, Jamtha             3\n",
              "Buffalo Park                                             3\n",
              "OUTsurance Oval                                          2\n",
              "ACA-VDCA Stadium                                         1\n",
              "Name: count, dtype: int64"
            ]
          },
          "metadata": {},
          "execution_count": 73
        }
      ]
    },
    {
      "cell_type": "markdown",
      "source": [
        "## **Toss decision and Result**"
      ],
      "metadata": {
        "id": "7gpgGDXcEAOY"
      }
    },
    {
      "cell_type": "code",
      "source": [
        "df['toss_decision'].value_counts(), df['result'].value_counts()"
      ],
      "metadata": {
        "colab": {
          "base_uri": "https://localhost:8080/"
        },
        "id": "aEOMLhbt5WzG",
        "outputId": "ac851184-faa1-4746-ace7-7a1850664c03"
      },
      "execution_count": 74,
      "outputs": [
        {
          "output_type": "execute_result",
          "data": {
            "text/plain": [
              "(toss_decision\n",
              " field    455\n",
              " bat      288\n",
              " Name: count, dtype: int64,\n",
              " result\n",
              " normal    734\n",
              " tie         9\n",
              " Name: count, dtype: int64)"
            ]
          },
          "metadata": {},
          "execution_count": 74
        }
      ]
    },
    {
      "cell_type": "markdown",
      "source": [
        "## **date value counts**"
      ],
      "metadata": {
        "id": "e6CZJ7E099nW"
      }
    },
    {
      "cell_type": "code",
      "source": [
        "df['date'].value_counts()"
      ],
      "metadata": {
        "colab": {
          "base_uri": "https://localhost:8080/"
        },
        "id": "dQjuB4ZJo0VN",
        "outputId": "6115f87f-2f73-48f0-8377-23cfd01c03a1"
      },
      "execution_count": 75,
      "outputs": [
        {
          "output_type": "execute_result",
          "data": {
            "text/plain": [
              "date\n",
              "2013-04-06    2\n",
              "2011-04-29    2\n",
              "2011-05-01    2\n",
              "2011-05-02    2\n",
              "2011-05-04    2\n",
              "             ..\n",
              "2012-04-05    1\n",
              "2012-04-04    1\n",
              "2011-05-28    1\n",
              "2011-05-27    1\n",
              "12/05/19      1\n",
              "Name: count, Length: 538, dtype: int64"
            ]
          },
          "metadata": {},
          "execution_count": 75
        }
      ]
    },
    {
      "cell_type": "markdown",
      "source": [
        "## **There are some values in \"day/month/year\" format. But we want all the values in the same format \"Year-Month-Day\".**"
      ],
      "metadata": {
        "id": "c9n365Dl-RGF"
      }
    },
    {
      "cell_type": "code",
      "source": [
        "date_pattern = re.compile(r\"\\b\\d{2}/\\d{2}/\\d{2}\\b\")\n",
        "\n",
        "for i in range(len(df)):\n",
        "  date = df.iloc[i]['date']\n",
        "  if date_pattern.match(date):\n",
        "    date_obj = datetime.strptime(date, \"%d/%m/%y\")\n",
        "    formatted_date = date_obj.strftime(\"%Y-%m-%d\")\n",
        "    df.iloc[i, df.columns.get_loc('date')] = formatted_date"
      ],
      "metadata": {
        "id": "8OSQFhu6-Mj1"
      },
      "execution_count": 76,
      "outputs": []
    },
    {
      "cell_type": "markdown",
      "source": [
        "## **Viewing the change**"
      ],
      "metadata": {
        "id": "GJg0R7eK-oGE"
      }
    },
    {
      "cell_type": "code",
      "source": [
        "df['date'].value_counts().to_dict()"
      ],
      "metadata": {
        "colab": {
          "base_uri": "https://localhost:8080/"
        },
        "id": "YytA7mn_-O0V",
        "outputId": "00abcdb6-9071-463d-edba-586974e7a489"
      },
      "execution_count": 77,
      "outputs": [
        {
          "output_type": "execute_result",
          "data": {
            "text/plain": [
              "{'2013-04-06': 2,\n",
              " '2011-04-29': 2,\n",
              " '2011-05-01': 2,\n",
              " '2011-05-02': 2,\n",
              " '2011-05-04': 2,\n",
              " '2011-05-05': 2,\n",
              " '2011-05-07': 2,\n",
              " '2011-05-08': 2,\n",
              " '2011-05-10': 2,\n",
              " '2016-05-08': 2,\n",
              " '2016-05-07': 2,\n",
              " '2011-05-14': 2,\n",
              " '2011-05-15': 2,\n",
              " '2016-05-01': 2,\n",
              " '2011-05-22': 2,\n",
              " '2016-04-30': 2,\n",
              " '2012-04-06': 2,\n",
              " '2012-04-07': 2,\n",
              " '2012-04-08': 2,\n",
              " '2016-04-24': 2,\n",
              " '2012-04-10': 2,\n",
              " '2016-04-23': 2,\n",
              " '2012-04-12': 2,\n",
              " '2012-04-19': 2,\n",
              " '2012-04-15': 2,\n",
              " '2012-04-17': 2,\n",
              " '2012-05-10': 2,\n",
              " '2012-04-21': 2,\n",
              " '2012-04-22': 2,\n",
              " '2016-04-17': 2,\n",
              " '2016-04-16': 2,\n",
              " '2011-04-30': 2,\n",
              " '2011-04-27': 2,\n",
              " '2012-04-29': 2,\n",
              " '2016-05-14': 2,\n",
              " '2018-04-22': 2,\n",
              " '2010-03-25': 2,\n",
              " '2018-04-21': 2,\n",
              " '2010-03-28': 2,\n",
              " '2010-03-31': 2,\n",
              " '2010-04-03': 2,\n",
              " '2010-04-04': 2,\n",
              " '2018-04-15': 2,\n",
              " '2018-04-14': 2,\n",
              " '2010-04-07': 2,\n",
              " '2010-04-10': 2,\n",
              " '2010-04-11': 2,\n",
              " '2010-04-13': 2,\n",
              " '2018-04-08': 2,\n",
              " '2010-04-17': 2,\n",
              " '2010-04-18': 2,\n",
              " '2016-05-22': 2,\n",
              " '2011-04-09': 2,\n",
              " '2011-04-10': 2,\n",
              " '2016-05-21': 2,\n",
              " '2011-04-12': 2,\n",
              " '2011-04-13': 2,\n",
              " '2011-04-15': 2,\n",
              " '2011-04-16': 2,\n",
              " '2011-04-17': 2,\n",
              " '2011-04-20': 2,\n",
              " '2011-04-22': 2,\n",
              " '2011-04-24': 2,\n",
              " '2016-05-15': 2,\n",
              " '2012-04-28': 2,\n",
              " '2012-05-01': 2,\n",
              " '2010-03-20': 2,\n",
              " '2013-05-02': 2,\n",
              " '2013-05-14': 2,\n",
              " '2013-05-05': 2,\n",
              " '2013-05-07': 2,\n",
              " '2013-05-09': 2,\n",
              " '2013-05-11': 2,\n",
              " '2013-05-12': 2,\n",
              " '2015-04-19': 2,\n",
              " '2013-05-15': 2,\n",
              " '2015-04-18': 2,\n",
              " '2013-05-18': 2,\n",
              " '2013-05-19': 2,\n",
              " '2015-04-12': 2,\n",
              " '2014-04-18': 2,\n",
              " '2015-04-11': 2,\n",
              " '2014-04-26': 2,\n",
              " '2014-04-27': 2,\n",
              " '2014-05-03': 2,\n",
              " '2014-05-05': 2,\n",
              " '2014-05-07': 2,\n",
              " '2014-05-25': 2,\n",
              " '2014-05-24': 2,\n",
              " '2014-05-10': 2,\n",
              " '2014-05-11': 2,\n",
              " '2014-05-23': 2,\n",
              " '2014-05-13': 2,\n",
              " '2014-05-14': 2,\n",
              " '2014-05-22': 2,\n",
              " '2014-05-18': 2,\n",
              " '2014-05-19': 2,\n",
              " '2015-04-22': 2,\n",
              " '2013-05-01': 2,\n",
              " '2012-05-05': 2,\n",
              " '2013-04-29': 2,\n",
              " '2012-05-06': 2,\n",
              " '2012-05-08': 2,\n",
              " '2012-05-12': 2,\n",
              " '2012-05-13': 2,\n",
              " '2012-05-14': 2,\n",
              " '2012-05-17': 2,\n",
              " '2015-05-16': 2,\n",
              " '2012-05-19': 2,\n",
              " '2012-05-20': 2,\n",
              " '2015-05-10': 2,\n",
              " '2015-05-09': 2,\n",
              " '2013-04-07': 2,\n",
              " '2013-04-09': 2,\n",
              " '2013-04-11': 2,\n",
              " '2015-05-04': 2,\n",
              " '2013-04-13': 2,\n",
              " '2013-04-14': 2,\n",
              " '2015-05-03': 2,\n",
              " '2013-04-16': 2,\n",
              " '2013-04-17': 2,\n",
              " '2015-05-02': 2,\n",
              " '2015-05-01': 2,\n",
              " '2013-04-20': 2,\n",
              " '2013-04-21': 2,\n",
              " '2013-04-23': 2,\n",
              " '2015-05-07': 2,\n",
              " '2015-04-25': 2,\n",
              " '2013-04-27': 2,\n",
              " '2013-04-28': 2,\n",
              " '2010-03-21': 2,\n",
              " '2014-05-20': 2,\n",
              " '2010-03-19': 2,\n",
              " '2008-05-01': 2,\n",
              " '2017-05-13': 2,\n",
              " '2017-05-07': 2,\n",
              " '2017-05-06': 2,\n",
              " '2019-04-20': 2,\n",
              " '2009-04-18': 2,\n",
              " '2009-04-19': 2,\n",
              " '2019-04-21': 2,\n",
              " '2018-05-13': 2,\n",
              " '2009-04-23': 2,\n",
              " '2017-05-01': 2,\n",
              " '2009-05-05': 2,\n",
              " '2009-04-26': 2,\n",
              " '2017-04-30': 2,\n",
              " '2009-04-27': 2,\n",
              " '2017-04-29': 2,\n",
              " '2009-04-29': 2,\n",
              " '2009-04-30': 2,\n",
              " '2017-04-28': 2,\n",
              " '2009-05-01': 2,\n",
              " '2009-05-02': 2,\n",
              " '2018-05-19': 2,\n",
              " '2018-05-20': 2,\n",
              " '2008-05-24': 2,\n",
              " '2017-05-14': 2,\n",
              " '2008-05-03': 2,\n",
              " '2008-05-04': 2,\n",
              " '2019-03-31': 2,\n",
              " '2019-03-30': 2,\n",
              " '2008-05-08': 2,\n",
              " '2008-04-27': 2,\n",
              " '2008-05-28': 2,\n",
              " '2008-04-26': 2,\n",
              " '2019-04-06': 2,\n",
              " '2008-05-11': 2,\n",
              " '2019-04-07': 2,\n",
              " '2019-03-24': 2,\n",
              " '2008-04-20': 2,\n",
              " '2008-04-19': 2,\n",
              " '2008-05-17': 2,\n",
              " '2008-05-18': 2,\n",
              " '2019-04-13': 2,\n",
              " '2019-04-14': 2,\n",
              " '2008-05-21': 2,\n",
              " '2009-05-03': 2,\n",
              " '2018-05-12': 2,\n",
              " '2008-05-25': 2,\n",
              " '2017-04-23': 2,\n",
              " '2018-04-29': 2,\n",
              " '2009-05-21': 2,\n",
              " '2009-05-20': 2,\n",
              " '2017-04-16': 2,\n",
              " '2010-03-13': 2,\n",
              " '2017-04-15': 2,\n",
              " '2019-04-28': 2,\n",
              " '2017-04-14': 2,\n",
              " '2010-03-14': 2,\n",
              " '2019-05-04': 2,\n",
              " '2009-05-17': 2,\n",
              " '2009-05-16': 2,\n",
              " '2019-05-05': 2,\n",
              " '2017-04-22': 2,\n",
              " '2017-04-17': 2,\n",
              " '2010-03-16': 2,\n",
              " '2009-05-09': 2,\n",
              " '2017-04-09': 2,\n",
              " '2009-05-07': 2,\n",
              " '2018-05-06': 2,\n",
              " '2009-05-12': 2,\n",
              " '2018-05-05': 2,\n",
              " '2009-05-14': 2,\n",
              " '2009-05-10': 2,\n",
              " '2019-05-10': 1,\n",
              " '2015-05-15': 1,\n",
              " '2019-04-02': 1,\n",
              " '2019-05-07': 1,\n",
              " '2019-04-09': 1,\n",
              " '2019-04-10': 1,\n",
              " '2019-04-08': 1,\n",
              " '2019-04-11': 1,\n",
              " '2019-04-05': 1,\n",
              " '2015-05-14': 1,\n",
              " '2015-05-12': 1,\n",
              " '2015-05-05': 1,\n",
              " '2019-05-02': 1,\n",
              " '2019-05-03': 1,\n",
              " '2015-05-06': 1,\n",
              " '2015-05-08': 1,\n",
              " '2019-04-12': 1,\n",
              " '2019-04-03': 1,\n",
              " '2015-05-11': 1,\n",
              " '2015-05-13': 1,\n",
              " '2019-04-04': 1,\n",
              " '2019-04-25': 1,\n",
              " '2014-05-27': 1,\n",
              " '2019-05-01': 1,\n",
              " '2019-04-24': 1,\n",
              " '2015-04-17': 1,\n",
              " '2015-04-15': 1,\n",
              " '2015-04-30': 1,\n",
              " '2015-04-14': 1,\n",
              " '2015-04-13': 1,\n",
              " '2019-04-23': 1,\n",
              " '2019-04-26': 1,\n",
              " '2015-04-20': 1,\n",
              " '2019-04-22': 1,\n",
              " '2015-04-21': 1,\n",
              " '2015-04-10': 1,\n",
              " '2015-04-09': 1,\n",
              " '2015-04-08': 1,\n",
              " '2019-04-27': 1,\n",
              " '2015-04-23': 1,\n",
              " '2019-04-19': 1,\n",
              " '2019-04-18': 1,\n",
              " '2015-04-24': 1,\n",
              " '2019-04-17': 1,\n",
              " '2019-04-16': 1,\n",
              " '2019-04-15': 1,\n",
              " '2015-04-26': 1,\n",
              " '2015-04-27': 1,\n",
              " '2014-06-01': 1,\n",
              " '2014-05-30': 1,\n",
              " '2015-04-16': 1,\n",
              " '2014-05-28': 1,\n",
              " '2015-04-28': 1,\n",
              " '2019-04-29': 1,\n",
              " '2016-04-14': 1,\n",
              " '2019-04-01': 1,\n",
              " '2018-05-08': 1,\n",
              " '2016-05-27': 1,\n",
              " '2016-05-25': 1,\n",
              " '2016-05-24': 1,\n",
              " '2018-05-04': 1,\n",
              " '2014-05-21': 1,\n",
              " '2018-05-07': 1,\n",
              " '2016-05-19': 1,\n",
              " '2016-05-18': 1,\n",
              " '2016-05-17': 1,\n",
              " '2015-05-17': 1,\n",
              " '2016-05-16': 1,\n",
              " '2018-05-09': 1,\n",
              " '2016-05-13': 1,\n",
              " '2018-05-10': 1,\n",
              " '2016-05-12': 1,\n",
              " '2018-05-11': 1,\n",
              " '2016-05-11': 1,\n",
              " '2016-05-10': 1,\n",
              " '2016-05-29': 1,\n",
              " '2018-04-07': 1,\n",
              " '2018-05-03': 1,\n",
              " '2018-04-09': 1,\n",
              " '2018-04-23': 1,\n",
              " '2018-04-25': 1,\n",
              " '2018-04-26': 1,\n",
              " '2018-04-20': 1,\n",
              " '2018-04-27': 1,\n",
              " '2018-04-19': 1,\n",
              " '2018-04-18': 1,\n",
              " '2018-04-17': 1,\n",
              " '2018-04-16': 1,\n",
              " '2018-04-28': 1,\n",
              " '2018-04-30': 1,\n",
              " '2018-05-01': 1,\n",
              " '2018-04-13': 1,\n",
              " '2018-04-12': 1,\n",
              " '2018-04-11': 1,\n",
              " '2018-05-02': 1,\n",
              " '2018-04-10': 1,\n",
              " '2016-05-09': 1,\n",
              " '2018-05-14': 1,\n",
              " '2018-05-15': 1,\n",
              " '2016-04-19': 1,\n",
              " '2016-04-18': 1,\n",
              " '2019-03-25': 1,\n",
              " '2019-03-26': 1,\n",
              " '2016-04-15': 1,\n",
              " '2018-04-24': 1,\n",
              " '2016-04-13': 1,\n",
              " '2019-03-27': 1,\n",
              " '2016-04-12': 1,\n",
              " '2019-03-28': 1,\n",
              " '2016-04-11': 1,\n",
              " '2016-04-10': 1,\n",
              " '2016-04-09': 1,\n",
              " '2019-03-29': 1,\n",
              " '2015-05-24': 1,\n",
              " '2015-05-22': 1,\n",
              " '2015-05-20': 1,\n",
              " '2015-05-19': 1,\n",
              " '2019-03-23': 1,\n",
              " '2018-05-27': 1,\n",
              " '2016-05-06': 1,\n",
              " '2016-04-20': 1,\n",
              " '2016-05-05': 1,\n",
              " '2016-05-04': 1,\n",
              " '2016-05-03': 1,\n",
              " '2016-05-02': 1,\n",
              " '2018-05-16': 1,\n",
              " '2018-05-17': 1,\n",
              " '2018-05-18': 1,\n",
              " '2016-04-29': 1,\n",
              " '2016-04-28': 1,\n",
              " '2016-04-27': 1,\n",
              " '2016-04-26': 1,\n",
              " '2016-04-25': 1,\n",
              " '2018-05-22': 1,\n",
              " '2018-05-23': 1,\n",
              " '2018-05-25': 1,\n",
              " '2016-04-22': 1,\n",
              " '2016-04-21': 1,\n",
              " '2016-05-20': 1,\n",
              " '2017-04-05': 1,\n",
              " '2014-05-15': 1,\n",
              " '2010-04-22': 1,\n",
              " '2009-05-22': 1,\n",
              " '2009-05-19': 1,\n",
              " '2009-05-18': 1,\n",
              " '2009-05-15': 1,\n",
              " '2009-05-13': 1,\n",
              " '2009-05-11': 1,\n",
              " '2009-05-08': 1,\n",
              " '2009-05-06': 1,\n",
              " '2009-05-04': 1,\n",
              " '2009-04-28': 1,\n",
              " '2009-04-25': 1,\n",
              " '2009-04-24': 1,\n",
              " '2009-04-22': 1,\n",
              " '2009-04-21': 1,\n",
              " '2009-04-20': 1,\n",
              " '2008-06-01': 1,\n",
              " '2008-05-31': 1,\n",
              " '2008-05-30': 1,\n",
              " '2008-05-27': 1,\n",
              " '2008-05-26': 1,\n",
              " '2008-05-23': 1,\n",
              " '2009-05-23': 1,\n",
              " '2009-05-24': 1,\n",
              " '2010-03-12': 1,\n",
              " '2010-04-02': 1,\n",
              " '2010-04-19': 1,\n",
              " '2010-04-16': 1,\n",
              " '2010-04-15': 1,\n",
              " '2010-04-14': 1,\n",
              " '2010-04-12': 1,\n",
              " '2010-04-09': 1,\n",
              " '2010-04-08': 1,\n",
              " '2010-04-06': 1,\n",
              " '2010-04-05': 1,\n",
              " '2010-04-01': 1,\n",
              " '2010-03-15': 1,\n",
              " '2010-03-30': 1,\n",
              " '2010-03-29': 1,\n",
              " '2010-03-27': 1,\n",
              " '2010-03-26': 1,\n",
              " '2010-03-24': 1,\n",
              " '2010-03-23': 1,\n",
              " '2010-03-22': 1,\n",
              " '2010-03-18': 1,\n",
              " '2010-03-17': 1,\n",
              " '2008-05-20': 1,\n",
              " '2008-05-19': 1,\n",
              " '2008-05-16': 1,\n",
              " '2017-04-24': 1,\n",
              " '2017-05-10': 1,\n",
              " '2017-05-09': 1,\n",
              " '2017-05-08': 1,\n",
              " '2017-05-05': 1,\n",
              " '2017-05-04': 1,\n",
              " '2017-05-03': 1,\n",
              " '2017-05-02': 1,\n",
              " '2017-04-27': 1,\n",
              " '2017-04-26': 1,\n",
              " '2017-04-21': 1,\n",
              " '2017-05-12': 1,\n",
              " '2017-04-20': 1,\n",
              " '2017-04-19': 1,\n",
              " '2017-04-18': 1,\n",
              " '2017-04-13': 1,\n",
              " '2017-04-12': 1,\n",
              " '2017-04-11': 1,\n",
              " '2017-04-10': 1,\n",
              " '2017-04-08': 1,\n",
              " '2017-04-07': 1,\n",
              " '2017-05-11': 1,\n",
              " '2017-05-16': 1,\n",
              " '2008-05-15': 1,\n",
              " '2008-04-30': 1,\n",
              " '2008-05-14': 1,\n",
              " '2008-05-13': 1,\n",
              " '2008-05-12': 1,\n",
              " '2008-05-10': 1,\n",
              " '2008-05-09': 1,\n",
              " '2008-05-07': 1,\n",
              " '2008-05-06': 1,\n",
              " '2008-05-05': 1,\n",
              " '2008-05-02': 1,\n",
              " '2008-04-29': 1,\n",
              " '2017-05-17': 1,\n",
              " '2008-04-28': 1,\n",
              " '2008-04-25': 1,\n",
              " '2008-04-24': 1,\n",
              " '2008-04-23': 1,\n",
              " '2008-04-22': 1,\n",
              " '2008-04-21': 1,\n",
              " '2008-04-18': 1,\n",
              " '2017-05-21': 1,\n",
              " '2017-05-19': 1,\n",
              " '2010-04-21': 1,\n",
              " '2010-04-24': 1,\n",
              " '2014-05-12': 1,\n",
              " '2010-04-25': 1,\n",
              " '2013-04-26': 1,\n",
              " '2013-04-25': 1,\n",
              " '2013-04-24': 1,\n",
              " '2013-05-16': 1,\n",
              " '2013-04-22': 1,\n",
              " '2013-04-19': 1,\n",
              " '2013-04-18': 1,\n",
              " '2013-04-15': 1,\n",
              " '2013-04-12': 1,\n",
              " '2013-04-10': 1,\n",
              " '2013-04-08': 1,\n",
              " '2017-04-06': 1,\n",
              " '2013-04-05': 1,\n",
              " '2013-04-04': 1,\n",
              " '2013-04-03': 1,\n",
              " '2012-05-27': 1,\n",
              " '2012-05-25': 1,\n",
              " '2012-05-23': 1,\n",
              " '2012-05-22': 1,\n",
              " '2012-05-18': 1,\n",
              " '2012-05-16': 1,\n",
              " '2013-04-30': 1,\n",
              " '2013-05-03': 1,\n",
              " '2013-05-04': 1,\n",
              " '2014-04-20': 1,\n",
              " '2014-05-09': 1,\n",
              " '2014-05-08': 1,\n",
              " '2014-05-06': 1,\n",
              " '2014-05-04': 1,\n",
              " '2014-05-02': 1,\n",
              " '2014-04-29': 1,\n",
              " '2014-04-24': 1,\n",
              " '2014-04-22': 1,\n",
              " '2014-04-21': 1,\n",
              " '2014-04-17': 1,\n",
              " '2013-05-08': 1,\n",
              " '2014-04-16': 1,\n",
              " '2013-05-26': 1,\n",
              " '2013-05-24': 1,\n",
              " '2013-05-22': 1,\n",
              " '2013-05-21': 1,\n",
              " '2013-05-17': 1,\n",
              " '2013-05-06': 1,\n",
              " '2013-05-13': 1,\n",
              " '2013-05-10': 1,\n",
              " '2012-05-15': 1,\n",
              " '2012-05-11': 1,\n",
              " '2012-05-09': 1,\n",
              " '2011-05-03': 1,\n",
              " '2011-05-19': 1,\n",
              " '2011-05-18': 1,\n",
              " '2011-05-17': 1,\n",
              " '2011-05-16': 1,\n",
              " '2011-05-13': 1,\n",
              " '2011-05-12': 1,\n",
              " '2011-05-11': 1,\n",
              " '2011-05-09': 1,\n",
              " '2011-05-06': 1,\n",
              " '2011-04-28': 1,\n",
              " '2011-05-21': 1,\n",
              " '2011-04-26': 1,\n",
              " '2011-04-25': 1,\n",
              " '2011-04-23': 1,\n",
              " '2011-04-21': 1,\n",
              " '2011-04-19': 1,\n",
              " '2011-04-18': 1,\n",
              " '2011-04-14': 1,\n",
              " '2011-04-11': 1,\n",
              " '2011-04-08': 1,\n",
              " '2011-05-20': 1,\n",
              " '2011-05-24': 1,\n",
              " '2012-05-07': 1,\n",
              " '2012-04-20': 1,\n",
              " '2012-05-04': 1,\n",
              " '2012-05-03': 1,\n",
              " '2012-05-02': 1,\n",
              " '2012-04-30': 1,\n",
              " '2012-04-27': 1,\n",
              " '2012-04-26': 1,\n",
              " '2012-04-25': 1,\n",
              " '2012-04-24': 1,\n",
              " '2012-04-23': 1,\n",
              " '2012-04-18': 1,\n",
              " '2011-05-25': 1,\n",
              " '2012-04-16': 1,\n",
              " '2012-04-14': 1,\n",
              " '2012-04-13': 1,\n",
              " '2012-04-11': 1,\n",
              " '2012-04-09': 1,\n",
              " '2012-04-05': 1,\n",
              " '2012-04-04': 1,\n",
              " '2011-05-28': 1,\n",
              " '2011-05-27': 1,\n",
              " '2019-05-12': 1}"
            ]
          },
          "metadata": {},
          "execution_count": 77
        }
      ]
    },
    {
      "cell_type": "code",
      "source": [
        "df.to_csv(\"IPL_chatbot_data.csv\", index=False)"
      ],
      "metadata": {
        "id": "2SRQtcs1EXZW"
      },
      "execution_count": 79,
      "outputs": []
    }
  ]
}